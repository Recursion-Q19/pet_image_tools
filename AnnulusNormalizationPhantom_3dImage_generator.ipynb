{
 "cells": [
  {
   "cell_type": "code",
   "execution_count": null,
   "id": "28a7065d-b998-4706-b8fa-1650338aebc4",
   "metadata": {},
   "outputs": [],
   "source": [
    "# Install a pip package in the current Jupyter notebook - if you have not had them installed already\n",
    "import sys\n",
    "!{sys.executable} -m pip install numpy\n",
    "#!pip install numpy #this is not recommended see: https://jakevdp.github.io/blog/2017/12/05/installing-python-packages-from-jupyter/"
   ]
  },
  {
   "cell_type": "code",
   "execution_count": null,
   "id": "a3f3b0c1-bafa-418b-a95e-2ce97053aa87",
   "metadata": {},
   "outputs": [],
   "source": [
    "!{sys.executable} -m pip install matplotlib"
   ]
  },
  {
   "cell_type": "code",
   "execution_count": null,
   "id": "c4c8ada0-11dc-4023-af7d-2fe41206e4f6",
   "metadata": {},
   "outputs": [],
   "source": [
    "#import the necessary libraries\n",
    "import numpy as np\n",
    "import matplotlib.pyplot as plt\n",
    "import os"
   ]
  },
  {
   "cell_type": "code",
   "execution_count": null,
   "id": "e71c0317-5426-4149-b1d7-df972cdc0213",
   "metadata": {},
   "outputs": [],
   "source": [
    "#dimensions and parameters\n",
    "xPixels = 160 #number of voxels in x direction\n",
    "yPixels = 160 #number of voxels in y direction\n",
    "zPixels = 139 #number of voxels in z direction\n",
    "xPixel_size = 0.4 #size of each pixel in x direction and in mm\n",
    "yPixel_size = 0.4 #mm\n",
    "zPixel_size = 0.65 #mm\n",
    "inner_rd    = 22 #mm\n",
    "outter_rd   = 24 #mm\n",
    "nSamples    = 10000"
   ]
  },
  {
   "cell_type": "code",
   "execution_count": null,
   "id": "23eb57b8-af2b-4ad2-88df-f124b2194acd",
   "metadata": {},
   "outputs": [],
   "source": [
    "#Monte Carlo simulation - the phanum here is an annulus\n",
    "def MonteCarlo_sim(nSamples, xPixels, yPixels, xPixel_size, yPixel_size):\n",
    "    xCenter     = xPixels/2\n",
    "    yCenter     = yPixels/2\n",
    "    arrImage2D  = np.zeros((xPixels, yPixels), dtype=np.float32) \n",
    "    \n",
    "    xPoints     = np.random.uniform(low=0.0, high=xPixel_size, size=nSamples)\n",
    "    yPoints     = np.random.uniform(low=0.0, high=yPixel_size, size=nSamples)\n",
    "    \n",
    "    for j in range(yPixels):\n",
    "        for i in range(xPixels):\n",
    "            #if (((i*xPixel_size)**2 + (j*yPixel_size)**2) <= outter_rd  and (((i+1)*xPixel_size)**2 + ((j+1)*yPixel_size)**2) >= inner_rd):\n",
    "                dist = ((i-xCenter)*xPixel_size + xPoints)**2 + ((j-yCenter)*yPixel_size + yPoints)**2\n",
    "            \n",
    "                condition1 = dist <= outter_rd**2\n",
    "                condition2 = dist >= inner_rd**2\n",
    "                condition = condition1 & condition2\n",
    "            \n",
    "                count = np.count_nonzero(condition) \n",
    "            \n",
    "                arrImage2D[i,j] = count / nSamples\n",
    "            \n",
    "    return arrImage2D"
   ]
  },
  {
   "cell_type": "code",
   "execution_count": null,
   "id": "dd074a21-7085-463a-a4a5-973882dc1b10",
   "metadata": {},
   "outputs": [],
   "source": [
    "#Visualization - making sure that the everything looks good in 2D\n",
    "def vis2D(a2Dimage, dim_list):\n",
    "    '''\n",
    "    a2Dimage -- a 2d image arranged as a 2d arrat\n",
    "    dim_list -- a list specifying the extend of the image, i.e, [x_min, x_max, y_min, y_max]\n",
    "    '''\n",
    "    plt.imshow(a2Dimage.T, origin='lower', extent=dim_list, cmap='hot')\n",
    "    plt.colorbar(label='Intensity (0-1)')\n",
    "    plt.title('Image')\n",
    "    plt.xlabel('mm')\n",
    "    plt.ylabel('mm')\n",
    "    plt.gca().set_aspect('equal')\n",
    "    plt.show()"
   ]
  },
  {
   "cell_type": "code",
   "execution_count": null,
   "id": "03da09e8-fcd7-4b13-9ae9-604766600b50",
   "metadata": {},
   "outputs": [],
   "source": [
    "image2d = MonteCarlo_sim(nSamples, xPixels, yPixels, xPixel_size, yPixel_size)\n",
    "#to test\n",
    "vis2D(image2d, dim_list = [-(xPixels/2)*xPixel_size, (xPixels/2)*xPixel_size, -(yPixels/2)*yPixel_size, (xPixels/2)*yPixel_size])"
   ]
  },
  {
   "cell_type": "code",
   "execution_count": null,
   "id": "bea04702-5c05-44e0-91fc-0cb793ee6daa",
   "metadata": {},
   "outputs": [],
   "source": [
    "#Converting the 2D into the 3D\n",
    "def twoToThree(image2d, zPixels):\n",
    "    '''\n",
    "    image2d -- a 2d image passed as a 2d array\n",
    "    zPixels -- number of slices/depth/frames\n",
    "    '''\n",
    "    arrImage3d = np.zeros(shape=(zPixels, image2d.shape[0], image2d.shape[1]), dtype=np.float32)\n",
    "    for i in range(zPixels):\n",
    "        arrImage3d[i,:,:] = image2d\n",
    "    return arrImage3d"
   ]
  },
  {
   "cell_type": "code",
   "execution_count": null,
   "id": "f9f4ccf5-9494-46b8-a2ad-43f5fd11270e",
   "metadata": {},
   "outputs": [],
   "source": [
    "image3d = twoToThree(image2d, zPixels)\n",
    "#to test\n",
    "vis2D(image3d[37,:,:], dim_list = [-(xPixels/2)*xPixel_size, (xPixels/2)*xPixel_size, -(yPixels/2)*yPixel_size, (xPixels/2)*yPixel_size])"
   ]
  },
  {
   "cell_type": "code",
   "execution_count": null,
   "id": "f3e91d75-dc9a-4149-98c4-598379acded2",
   "metadata": {},
   "outputs": [],
   "source": [
    "#https://numpy.org/doc/2.2/reference/generated/numpy.ndarray.tofile.html\n",
    "\n",
    "#converting 3d array image to a 3d interfile binary image\n",
    "def interfile_image_generator(arrImage3d):\n",
    "    '''\n",
    "    arrImage3d -- a 3d array image (computed above) \n",
    "    '''\n",
    "    #writing the raw binary file\n",
    "    with open(\"norm_phantom_image.img\", \"wb\") as f:\n",
    "        arrImage3d.astype(np.float32).tofile(f)   #astype(np.float32) to get (!number format := short float) and (!number of bytes per pixel := 4)\n",
    "    \n",
    "    # Writing interfile header -- you might need to change the following values\n",
    "    header_content = f\"\"\"\n",
    "    !INTERFILE := \n",
    "    !imaging modality := PET\n",
    "    !version of keys := CASToRv3.2\n",
    "    CASToR version := 3.2\n",
    "    \n",
    "    !GENERAL DATA := \n",
    "    !originating system := PET_URNIDDL_PHYTOPET\n",
    "    !data offset in bytes := 0\n",
    "    !name of data file := norm_phantom_image.img\n",
    "    patient name := someone\n",
    "    \n",
    "    !GENERAL IMAGE DATA \n",
    "    !type of data := Dynamic\n",
    "    !total number of images := 139\n",
    "    imagedata byte order := LITTLEENDIAN\n",
    "    !number of frame groups :=1 \n",
    "    process status := \n",
    "    \n",
    "    !STATIC STUDY (General) :=\n",
    "    number of dimensions := 3\n",
    "    !matrix size [1] := 160\n",
    "    !matrix size [2] := 160\n",
    "    !matrix size [3] := 139\n",
    "    !number format := short float\n",
    "    !number of bytes per pixel := 4\n",
    "    scaling factor (mm/pixel) [1] := 0.4\n",
    "    scaling factor (mm/pixel) [2] := 0.4\n",
    "    scaling factor (mm/pixel) [3] := 0.65\n",
    "    first pixel offset (mm) [1] := 0\n",
    "    first pixel offset (mm) [2] := 0\n",
    "    first pixel offset (mm) [3] := 0\n",
    "    data rescale offset := 0\n",
    "    data rescale slope := 1\n",
    "    quantification units := 1\n",
    "    !number of images in this frame group := 139\n",
    "    !image duration (sec) := 10\n",
    "    !image start time (sec) := 0\n",
    "    pause between frame groups (sec) := 0\n",
    "    !END OF INTERFILE := \n",
    "    \n",
    "    \"\"\"\n",
    "    \n",
    "    with open(\"norm_phantom_image.hdr\", \"w\") as hdr_file:\n",
    "        hdr_file.write(header_content)"
   ]
  },
  {
   "cell_type": "code",
   "execution_count": null,
   "id": "2bcb40be-22f6-4744-afdb-12b79d9a47cf",
   "metadata": {},
   "outputs": [],
   "source": [
    "#a test function for (!number of bytes per pixel := 4) - I was not careful about this at the begining\n",
    "def num_bytes_per_pixel_test(path_to_img_file): #example in this notebook: path_to_img_file = \"norm_phantom_image.img\"\n",
    "    # Read image file size\n",
    "    bytes_total = os.path.getsize(path_to_img_file)\n",
    "    voxels = xPixels*yPixels*zPixels\n",
    "    \n",
    "    print(\"Bytes per voxel: \", bytes_total / voxels)  # Should be 4\n",
    "    print(\"Bytes in float32: \", np.dtype(np.float32).itemsize) #should be equal to 4 as the above line"
   ]
  },
  {
   "cell_type": "code",
   "execution_count": null,
   "id": "acf6938d-baa2-4475-9b30-d82dd9146f30",
   "metadata": {},
   "outputs": [],
   "source": [
    "interfile_image_generator(image3d)\n",
    "num_bytes_per_pixel_test(path_to_img_file=\"norm_phantom_image.img\")"
   ]
  },
  {
   "cell_type": "code",
   "execution_count": null,
   "id": "869242a0-6046-49f9-83d8-b3586e4e4bd0",
   "metadata": {},
   "outputs": [],
   "source": []
  }
 ],
 "metadata": {
  "kernelspec": {
   "display_name": "Python 3 (ipykernel)",
   "language": "python",
   "name": "python3"
  },
  "language_info": {
   "codemirror_mode": {
    "name": "ipython",
    "version": 3
   },
   "file_extension": ".py",
   "mimetype": "text/x-python",
   "name": "python",
   "nbconvert_exporter": "python",
   "pygments_lexer": "ipython3",
   "version": "3.10.12"
  }
 },
 "nbformat": 4,
 "nbformat_minor": 5
}
